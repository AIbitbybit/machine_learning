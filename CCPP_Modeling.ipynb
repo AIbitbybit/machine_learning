{
 "cells": [
  {
   "cell_type": "markdown",
   "id": "6adb4c21-cdc8-4119-ad5e-f19842f17d9c",
   "metadata": {
    "jp-MarkdownHeadingCollapsed": true
   },
   "source": [
    "The model developed through the Python 'pandas' and 'scikit-learn' libraries\n",
    "\n",
    "# Steps\n",
    "\n",
    "1. Load Data \n",
    "2. Understand & Prepare Data\n",
    "3. Select Features\n",
    "4. Choose Algorithm(s)\n",
    "5. Train Model(s)\n",
    "6. Evaluate Model(s)\n",
    "\n"
   ]
  },
  {
   "cell_type": "markdown",
   "id": "729fa57b-8236-49a5-b82c-5b1cb74c707a",
   "metadata": {},
   "source": [
    "# Loading Data"
   ]
  },
  {
   "cell_type": "code",
   "execution_count": null,
   "id": "dcb46f2a-13d7-4041-9a4f-f561b9054689",
   "metadata": {},
   "outputs": [],
   "source": [
    "import pandas as pd\n",
    "import numpy as np\n",
    "import os\n",
    "import seaborn as sns\n",
    "import matplotlib.pylab as plt\n",
    "plt.style.use ('ggplot')\n",
    "\n",
    "\n",
    "\n",
    "# Get the directory containing this notebook\n",
    "notebook_dir = os.path.join(os.path.abspath(\"__file__\"))\n",
    "ccpp = pd.read_csv(os.path.join(notebook_dir,\"/CCPP_data.csv\"))"
   ]
  },
  {
   "cell_type": "markdown",
   "id": "d9ee1e03-f153-4be9-80bb-e9a9430393a3",
   "metadata": {},
   "source": [
    "# Basic Data Analysis "
   ]
  },
  {
   "cell_type": "code",
   "execution_count": null,
   "id": "dab81bc0-c148-45e5-8939-11e4a019465e",
   "metadata": {},
   "outputs": [],
   "source": [
    "ccpp.head(10)\n",
    "# provides first 10 rows\n"
   ]
  },
  {
   "cell_type": "markdown",
   "id": "909f2fee-320f-4dbc-a9b8-a0868a057299",
   "metadata": {},
   "source": [
    "### Columns \n",
    "\n",
    "- AT - Ambient Temperature\n",
    "- V - Exhaust Vacuum\n",
    "- AP - Ambient Pressure\n",
    "- RH - Relative Humidity \n",
    "- PE - Energy Output"
   ]
  },
  {
   "cell_type": "code",
   "execution_count": null,
   "id": "0698e856-ca4d-49af-a0f3-b5ab022ac2ed",
   "metadata": {},
   "outputs": [],
   "source": [
    "ccpp.rename(columns = {'AT':'Temp', 'V':'Vacuum', 'AP': 'Pressure', 'RH':'Humidity', 'PE': 'Energy'}, inplace=True)"
   ]
  },
  {
   "cell_type": "code",
   "execution_count": null,
   "id": "cea4e207-7520-4701-beac-620bfb9f9bb6",
   "metadata": {},
   "outputs": [],
   "source": [
    "ccpp.info()\n",
    "# provides information such as number of columns, data types and null values"
   ]
  },
  {
   "cell_type": "code",
   "execution_count": null,
   "id": "2cfe1078-caba-4cce-ba18-bd04f93abb43",
   "metadata": {},
   "outputs": [],
   "source": [
    "ccpp.corr()"
   ]
  },
  {
   "cell_type": "code",
   "execution_count": null,
   "id": "55f311b2-afc2-47bb-992f-682bf9cd3cd7",
   "metadata": {},
   "outputs": [],
   "source": [
    "sns.pairplot(ccpp, vars = ['Temp', 'Pressure', 'Vacuum', 'Humidity', 'Energy'])\n",
    "plt.show()"
   ]
  },
  {
   "cell_type": "markdown",
   "id": "b42a8f1e-f3a4-42bd-980e-c924034848d5",
   "metadata": {},
   "source": [
    "# Features and Correlation "
   ]
  },
  {
   "cell_type": "markdown",
   "id": "45abace6-7156-4587-9761-eab9a55573ec",
   "metadata": {},
   "source": [
    "### Strong Correlation\n",
    "\n",
    "- (+) Temp and Vacuum\n",
    "- (-) Energy and Temp\n",
    "- (-) Energy and Vacuum\n",
    "\n",
    "### Moderate Correlation\n",
    "\n",
    "- (-) Temp and Pressure\n",
    "- (-) Temp and Humidity\n",
    "- (+) Pressure and Energy\n",
    " "
   ]
  },
  {
   "cell_type": "markdown",
   "id": "27983e6d-9d3d-4c1d-b8f5-6fb0e36362a4",
   "metadata": {},
   "source": [
    "# Models\n",
    "\n",
    "- Linear Regression\n",
    "- Lasso Regression\n",
    "- Ridge Regression\n",
    "- Support Vector Regression (SVR)\n",
    "- Random Forest Regression\n",
    "\n",
    "# Output Metrics\n",
    "\n",
    "- RMSE\n",
    "- R^2\n"
   ]
  },
  {
   "cell_type": "code",
   "execution_count": null,
   "id": "d5873b0b-fc4c-4ca4-8932-4043d46c55a2",
   "metadata": {},
   "outputs": [],
   "source": [
    "# Split the data into features and target variable\n",
    "X = ccpp.drop('Energy', axis=1)\n",
    "y = ccpp['Energy']"
   ]
  },
  {
   "cell_type": "code",
   "execution_count": null,
   "id": "2487f30b-6088-425e-bf5b-ed26d5034dbf",
   "metadata": {},
   "outputs": [],
   "source": [
    "# splitting the data into training and testing sets\n",
    "from sklearn.model_selection import train_test_split\n",
    "\n",
    "X_train, X_test, y_train, y_test = train_test_split (X, y, test_size=0.2, random_state=1)"
   ]
  },
  {
   "cell_type": "code",
   "execution_count": null,
   "id": "5e6bd408-9730-4871-a5e7-94025e966d30",
   "metadata": {},
   "outputs": [],
   "source": [
    "from sklearn.preprocessing import StandardScaler\n",
    "\n",
    "scaler = StandardScaler()\n",
    "X_train = scaler.fit_transform(X_train)\n",
    "X_test = scaler.transform(X_test)"
   ]
  },
  {
   "cell_type": "markdown",
   "id": "95165d90-6e22-4016-8c06-c10a66b6f1c7",
   "metadata": {},
   "source": [
    "# General Model Training Approach\n",
    "\n",
    "1. Creating the model in Python\n",
    "2. Using the 'cross_val_score' method in Python which performs training and cross validation\n",
    "3. We will be folding the data 5-fold by passing parameter 'cv=5'\n",
    "4. The 'scoring' parameter identifies the chosen output metrics\n",
    "5. We will average the results from the cross validation and add the result to a table (pandas DataFrame) to display at the end "
   ]
  },
  {
   "cell_type": "markdown",
   "id": "182f8261-9512-4fc1-bd30-6163ce76338f",
   "metadata": {},
   "source": [
    "# Linear Regression "
   ]
  },
  {
   "cell_type": "code",
   "execution_count": 11,
   "id": "ccb24d9b-61f4-473f-a7f2-f71bf30f92a2",
   "metadata": {},
   "outputs": [
    {
     "name": "stdout",
     "output_type": "stream",
     "text": [
      "4.573755155822281\n",
      "0.927565122121436\n"
     ]
    }
   ],
   "source": [
    "from sklearn.model_selection import cross_val_score\n",
    "from sklearn.linear_model import LinearRegression\n",
    "\n",
    "LinearRegression = LinearRegression()\n",
    "\n",
    "linear_RMSE = -np.mean(cross_val_score(LinearRegression, X_train, y_train, cv=5, scoring='neg_root_mean_squared_error'))\n",
    "linear_r2 = np.mean(cross_val_score(LinearRegression, X_train, y_train, cv=5, scoring='r2'))\n",
    "\n",
    "print(linear_RMSE)\n",
    "print(linear_r2)\n",
    "\n",
    "# Creating a dataframe to add the results to \n",
    "\n",
    "results = pd.DataFrame({\n",
    "    'Model': ['Linear Regression'],\n",
    "    'RMSE': [linear_RMSE],\n",
    "    'R2': [linear_r2]\n",
    "})\n"
   ]
  },
  {
   "cell_type": "markdown",
   "id": "a796b881-749a-409a-91d2-c1f962d95dde",
   "metadata": {},
   "source": [
    "# Lasso Regression "
   ]
  },
  {
   "cell_type": "code",
   "execution_count": 12,
   "id": "4c0d690a-44f1-4c1c-8d81-ccbddcad75bc",
   "metadata": {},
   "outputs": [
    {
     "name": "stdout",
     "output_type": "stream",
     "text": [
      "4.5784552331727655\n",
      "0.927413186699208\n"
     ]
    }
   ],
   "source": [
    "from sklearn.linear_model import Lasso\n",
    "LassoRegression = Lasso(alpha=0.1)\n",
    "\n",
    "lasso_RMSE = -np.mean(cross_val_score(LassoRegression, X_train, y_train, cv=5, scoring='neg_root_mean_squared_error'))\n",
    "lasso_r2 = np.mean(cross_val_score(LassoRegression, X_train, y_train, cv=5, scoring='r2'))\n",
    "\n",
    "print(lasso_RMSE)\n",
    "print(lasso_r2)\n",
    "\n",
    "new_row = {'Model':'Lasso Regression', 'RMSE':lasso_RMSE,'R2':lasso_r2}\n",
    "results.loc[len(results)] = new_row"
   ]
  },
  {
   "cell_type": "code",
   "execution_count": 13,
   "id": "3f2c00e7-e8ea-4d1b-aba4-28889c425dcc",
   "metadata": {},
   "outputs": [
    {
     "data": {
      "text/html": [
       "<div>\n",
       "<style scoped>\n",
       "    .dataframe tbody tr th:only-of-type {\n",
       "        vertical-align: middle;\n",
       "    }\n",
       "\n",
       "    .dataframe tbody tr th {\n",
       "        vertical-align: top;\n",
       "    }\n",
       "\n",
       "    .dataframe thead th {\n",
       "        text-align: right;\n",
       "    }\n",
       "</style>\n",
       "<table border=\"1\" class=\"dataframe\">\n",
       "  <thead>\n",
       "    <tr style=\"text-align: right;\">\n",
       "      <th></th>\n",
       "      <th>Model</th>\n",
       "      <th>RMSE</th>\n",
       "      <th>R2</th>\n",
       "    </tr>\n",
       "  </thead>\n",
       "  <tbody>\n",
       "    <tr>\n",
       "      <th>0</th>\n",
       "      <td>Linear Regression</td>\n",
       "      <td>4.573755</td>\n",
       "      <td>0.927565</td>\n",
       "    </tr>\n",
       "    <tr>\n",
       "      <th>1</th>\n",
       "      <td>Lasso Regression</td>\n",
       "      <td>4.578455</td>\n",
       "      <td>0.927413</td>\n",
       "    </tr>\n",
       "  </tbody>\n",
       "</table>\n",
       "</div>"
      ],
      "text/plain": [
       "               Model      RMSE        R2\n",
       "0  Linear Regression  4.573755  0.927565\n",
       "1   Lasso Regression  4.578455  0.927413"
      ]
     },
     "execution_count": 13,
     "metadata": {},
     "output_type": "execute_result"
    }
   ],
   "source": [
    "results"
   ]
  },
  {
   "cell_type": "markdown",
   "id": "863444f3-f734-414d-bf3a-8665e6d9a995",
   "metadata": {},
   "source": [
    "# Ridge Regression"
   ]
  },
  {
   "cell_type": "code",
   "execution_count": 14,
   "id": "b39b5a60-4a77-4cbe-9ed9-4a0362917c91",
   "metadata": {},
   "outputs": [
    {
     "name": "stdout",
     "output_type": "stream",
     "text": [
      "4.573759127918946\n",
      "0.927564972249615\n"
     ]
    }
   ],
   "source": [
    "from sklearn.linear_model import Ridge\n",
    "RidgeRegression = Ridge(alpha=1.0)\n",
    "\n",
    "ridge_RMSE = -np.mean(cross_val_score(RidgeRegression, X_train, y_train, cv=5, scoring='neg_root_mean_squared_error'))\n",
    "ridge_r2 = np.mean(cross_val_score(RidgeRegression, X_train, y_train, cv=5, scoring='r2'))\n",
    "\n",
    "print(ridge_RMSE)\n",
    "print(ridge_r2)\n",
    "\n",
    "new_row = {'Model':'Ridge Regression', 'RMSE':ridge_RMSE,'R2':ridge_r2}\n",
    "results.loc[len(results)] = new_row"
   ]
  },
  {
   "cell_type": "code",
   "execution_count": 15,
   "id": "ecf3a46c-0eda-4a38-a33d-23a9ee6eac6d",
   "metadata": {},
   "outputs": [
    {
     "data": {
      "text/html": [
       "<div>\n",
       "<style scoped>\n",
       "    .dataframe tbody tr th:only-of-type {\n",
       "        vertical-align: middle;\n",
       "    }\n",
       "\n",
       "    .dataframe tbody tr th {\n",
       "        vertical-align: top;\n",
       "    }\n",
       "\n",
       "    .dataframe thead th {\n",
       "        text-align: right;\n",
       "    }\n",
       "</style>\n",
       "<table border=\"1\" class=\"dataframe\">\n",
       "  <thead>\n",
       "    <tr style=\"text-align: right;\">\n",
       "      <th></th>\n",
       "      <th>Model</th>\n",
       "      <th>RMSE</th>\n",
       "      <th>R2</th>\n",
       "    </tr>\n",
       "  </thead>\n",
       "  <tbody>\n",
       "    <tr>\n",
       "      <th>0</th>\n",
       "      <td>Linear Regression</td>\n",
       "      <td>4.573755</td>\n",
       "      <td>0.927565</td>\n",
       "    </tr>\n",
       "    <tr>\n",
       "      <th>1</th>\n",
       "      <td>Lasso Regression</td>\n",
       "      <td>4.578455</td>\n",
       "      <td>0.927413</td>\n",
       "    </tr>\n",
       "    <tr>\n",
       "      <th>2</th>\n",
       "      <td>Ridge Regression</td>\n",
       "      <td>4.573759</td>\n",
       "      <td>0.927565</td>\n",
       "    </tr>\n",
       "  </tbody>\n",
       "</table>\n",
       "</div>"
      ],
      "text/plain": [
       "               Model      RMSE        R2\n",
       "0  Linear Regression  4.573755  0.927565\n",
       "1   Lasso Regression  4.578455  0.927413\n",
       "2   Ridge Regression  4.573759  0.927565"
      ]
     },
     "execution_count": 15,
     "metadata": {},
     "output_type": "execute_result"
    }
   ],
   "source": [
    "results"
   ]
  },
  {
   "cell_type": "markdown",
   "id": "5ee376dd-ea4f-4724-8fc9-90e4c66a1753",
   "metadata": {},
   "source": [
    "# SVR "
   ]
  },
  {
   "cell_type": "code",
   "execution_count": 16,
   "id": "78ac89a3-8ab2-4708-b5b9-8fc3a9c38868",
   "metadata": {},
   "outputs": [
    {
     "name": "stdout",
     "output_type": "stream",
     "text": [
      "4.22398763806733\n",
      "0.9381987406704825\n"
     ]
    }
   ],
   "source": [
    "from sklearn.svm import SVR\n",
    "\n",
    "SVR = SVR(kernel='rbf')\n",
    "\n",
    "svr_RMSE = -np.mean(cross_val_score(SVR, X_train, y_train, cv=5, scoring='neg_root_mean_squared_error'))\n",
    "svr_r2 = np.mean(cross_val_score(SVR, X_train, y_train, cv=5, scoring='r2'))\n",
    "\n",
    "print(svr_RMSE)\n",
    "print(svr_r2)\n",
    "\n",
    "new_row = {'Model':'SVR', 'RMSE':svr_RMSE,'R2':svr_r2}\n",
    "results.loc[len(results)] = new_row"
   ]
  },
  {
   "cell_type": "code",
   "execution_count": 17,
   "id": "7212e269-6bdb-4940-85fd-deded1bb2231",
   "metadata": {},
   "outputs": [
    {
     "data": {
      "text/html": [
       "<div>\n",
       "<style scoped>\n",
       "    .dataframe tbody tr th:only-of-type {\n",
       "        vertical-align: middle;\n",
       "    }\n",
       "\n",
       "    .dataframe tbody tr th {\n",
       "        vertical-align: top;\n",
       "    }\n",
       "\n",
       "    .dataframe thead th {\n",
       "        text-align: right;\n",
       "    }\n",
       "</style>\n",
       "<table border=\"1\" class=\"dataframe\">\n",
       "  <thead>\n",
       "    <tr style=\"text-align: right;\">\n",
       "      <th></th>\n",
       "      <th>Model</th>\n",
       "      <th>RMSE</th>\n",
       "      <th>R2</th>\n",
       "    </tr>\n",
       "  </thead>\n",
       "  <tbody>\n",
       "    <tr>\n",
       "      <th>0</th>\n",
       "      <td>Linear Regression</td>\n",
       "      <td>4.573755</td>\n",
       "      <td>0.927565</td>\n",
       "    </tr>\n",
       "    <tr>\n",
       "      <th>1</th>\n",
       "      <td>Lasso Regression</td>\n",
       "      <td>4.578455</td>\n",
       "      <td>0.927413</td>\n",
       "    </tr>\n",
       "    <tr>\n",
       "      <th>2</th>\n",
       "      <td>Ridge Regression</td>\n",
       "      <td>4.573759</td>\n",
       "      <td>0.927565</td>\n",
       "    </tr>\n",
       "    <tr>\n",
       "      <th>3</th>\n",
       "      <td>SVR</td>\n",
       "      <td>4.223988</td>\n",
       "      <td>0.938199</td>\n",
       "    </tr>\n",
       "  </tbody>\n",
       "</table>\n",
       "</div>"
      ],
      "text/plain": [
       "               Model      RMSE        R2\n",
       "0  Linear Regression  4.573755  0.927565\n",
       "1   Lasso Regression  4.578455  0.927413\n",
       "2   Ridge Regression  4.573759  0.927565\n",
       "3                SVR  4.223988  0.938199"
      ]
     },
     "execution_count": 17,
     "metadata": {},
     "output_type": "execute_result"
    }
   ],
   "source": [
    "results"
   ]
  },
  {
   "cell_type": "markdown",
   "id": "01586002-4d4d-4722-9e1a-eee0f6fc6a2d",
   "metadata": {},
   "source": [
    "# Random Forest Regression"
   ]
  },
  {
   "cell_type": "code",
   "execution_count": 18,
   "id": "8e784971-810f-4e12-9ac7-55c90703a69c",
   "metadata": {},
   "outputs": [
    {
     "name": "stdout",
     "output_type": "stream",
     "text": [
      "3.514742994716528\n",
      "0.9572023910460457\n"
     ]
    }
   ],
   "source": [
    "from sklearn.ensemble import RandomForestRegressor\n",
    "\n",
    "RandomForestRegression = RandomForestRegressor(n_estimators=100, random_state=42)\n",
    "\n",
    "rfr_RMSE = -np.mean(cross_val_score(RandomForestRegression, X_train, y_train, cv=5, scoring='neg_root_mean_squared_error'))\n",
    "rfr_r2 = np.mean(cross_val_score(RandomForestRegression, X_train, y_train, cv=5, scoring='r2'))\n",
    "\n",
    "print(rfr_RMSE)\n",
    "print(rfr_r2)\n",
    "\n",
    "new_row = {'Model':'Random Forest Regression', 'RMSE':rfr_RMSE,'R2':rfr_r2}\n",
    "results.loc[len(results)] = new_row"
   ]
  },
  {
   "cell_type": "code",
   "execution_count": 19,
   "id": "a855922e-9d0d-42da-b22e-3fcc73133f9e",
   "metadata": {},
   "outputs": [
    {
     "data": {
      "text/html": [
       "<div>\n",
       "<style scoped>\n",
       "    .dataframe tbody tr th:only-of-type {\n",
       "        vertical-align: middle;\n",
       "    }\n",
       "\n",
       "    .dataframe tbody tr th {\n",
       "        vertical-align: top;\n",
       "    }\n",
       "\n",
       "    .dataframe thead th {\n",
       "        text-align: right;\n",
       "    }\n",
       "</style>\n",
       "<table border=\"1\" class=\"dataframe\">\n",
       "  <thead>\n",
       "    <tr style=\"text-align: right;\">\n",
       "      <th></th>\n",
       "      <th>Model</th>\n",
       "      <th>RMSE</th>\n",
       "      <th>R2</th>\n",
       "    </tr>\n",
       "  </thead>\n",
       "  <tbody>\n",
       "    <tr>\n",
       "      <th>0</th>\n",
       "      <td>Linear Regression</td>\n",
       "      <td>4.573755</td>\n",
       "      <td>0.927565</td>\n",
       "    </tr>\n",
       "    <tr>\n",
       "      <th>1</th>\n",
       "      <td>Lasso Regression</td>\n",
       "      <td>4.578455</td>\n",
       "      <td>0.927413</td>\n",
       "    </tr>\n",
       "    <tr>\n",
       "      <th>2</th>\n",
       "      <td>Ridge Regression</td>\n",
       "      <td>4.573759</td>\n",
       "      <td>0.927565</td>\n",
       "    </tr>\n",
       "    <tr>\n",
       "      <th>3</th>\n",
       "      <td>SVR</td>\n",
       "      <td>4.223988</td>\n",
       "      <td>0.938199</td>\n",
       "    </tr>\n",
       "    <tr>\n",
       "      <th>4</th>\n",
       "      <td>Random Forest Regression</td>\n",
       "      <td>3.514743</td>\n",
       "      <td>0.957202</td>\n",
       "    </tr>\n",
       "  </tbody>\n",
       "</table>\n",
       "</div>"
      ],
      "text/plain": [
       "                      Model      RMSE        R2\n",
       "0         Linear Regression  4.573755  0.927565\n",
       "1          Lasso Regression  4.578455  0.927413\n",
       "2          Ridge Regression  4.573759  0.927565\n",
       "3                       SVR  4.223988  0.938199\n",
       "4  Random Forest Regression  3.514743  0.957202"
      ]
     },
     "execution_count": 19,
     "metadata": {},
     "output_type": "execute_result"
    }
   ],
   "source": [
    "results"
   ]
  },
  {
   "cell_type": "markdown",
   "id": "b37bc937-52b5-46bd-8df8-e3197f96577c",
   "metadata": {},
   "source": [
    "# Conclusion \n",
    "\n",
    "The model cross validation favors **'Random Forest Regression'** as the most accurate machine learning model for predicting the energy output (PE) based on the given inputs. "
   ]
  }
 ],
 "metadata": {
  "kernelspec": {
   "display_name": "Python 3 (ipykernel)",
   "language": "python",
   "name": "python3"
  },
  "language_info": {
   "codemirror_mode": {
    "name": "ipython",
    "version": 3
   },
   "file_extension": ".py",
   "mimetype": "text/x-python",
   "name": "python",
   "nbconvert_exporter": "python",
   "pygments_lexer": "ipython3",
   "version": "3.11.0"
  }
 },
 "nbformat": 4,
 "nbformat_minor": 5
}
